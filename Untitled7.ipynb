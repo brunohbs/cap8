{
 "cells": [
  {
   "cell_type": "code",
   "execution_count": 1,
   "metadata": {},
   "outputs": [
    {
     "name": "stdin",
     "output_type": "stream",
     "text": [
      "Escreva o número de sua matricula 180074695\n"
     ]
    },
    {
     "name": "stdout",
     "output_type": "stream",
     "text": [
      "Você deverá entregar os exercícios:  [182, 177]\n"
     ]
    }
   ],
   "source": [
    "import random\n",
    "\n",
    "def escolhe(matricula):\n",
    "    random.seed(matricula)\n",
    "    cap1 = (2,8,9,11,12,15,16,18,20,21,22,24,26,27,28,30,31,32)    \n",
    "    cap2 = (36,40,44,45,46,48,50,51,53,55,56,57,59,60)\n",
    "    cap3 = (63,64,65,68,71,72,74,76,78,80,81,84)\n",
    "    cap4 = (85,86,87,89,91,92,94,97,99,101,103,104,106)\n",
    "    cap5 = (111,115,117,118,119,122,123,124,126,127,131,132,133)\n",
    "    cap6 = (138,139,140,141,144,147,148)\n",
    "    cap7 = (152,153,154,155,157,160,161,164,165,166,168,171,172)\n",
    "    cap8 = (174,175,176,177,179,181,182,185)\n",
    "    return(random.sample(cap8, k=2))\n",
    "\n",
    "print(\"Você deverá entregar os exercícios: \", escolhe(input(\"Escreva o número de sua matricula\")))\n",
    "# Matrícula - 180074695"
   ]
  },
  {
   "cell_type": "markdown",
   "metadata": {},
   "source": [
    "Exercise 177: Roman Numerals\n",
    "\n",
    "As the name implies, Roman numerals were developed in ancient Rome. Even after\n",
    "the Roman empire fell, its numerals continued to be widely used in Europe until the\n",
    "late middle ages, and its numerals are still used in limited circumstances today.\n",
    "Roman numerals are constructed from the letters M, D, C, L, X, V and I which\n",
    "represent 1000, 500, 100, 50, 10, 5 and 1 respectively. The numerals are generally\n",
    "written from largest value to smallest value. When this occurs the value of the number\n",
    "is the sum of the values of all of its numerals. If a smaller value precedes a larger\n",
    "value then the smaller value is subtracted from the larger value that it immediately\n",
    "precedes, and that difference is added to the value of the number.1\n",
    "Create a recursive function that converts a Roman numeral to an integer. Your\n",
    "function should process one or two characters at the beginning of the string, and\n",
    "then call itself recursively on all of the unprocessed characters. Use an empty string,\n",
    "which has the value 0, for the base case. In addition, write a main program that reads\n",
    "a Roman numeral from the user and displays its value. You can assume that the value\n",
    "entered by the user is valid. Your program does not need to do any error checking."
   ]
  },
  {
   "cell_type": "code",
   "execution_count": 5,
   "metadata": {},
   "outputs": [
    {
     "name": "stdin",
     "output_type": "stream",
     "text": [
      "Digite o algarismo romano que você quer saber em número inteiro CMXCVI\n"
     ]
    },
    {
     "name": "stdout",
     "output_type": "stream",
     "text": [
      "996\n"
     ]
    }
   ],
   "source": [
    "def romano(numeroRomano):\n",
    "    letras = {\"M\":1000,\"D\":500,\"C\":100,\"L\":50,\"X\":10,\"V\":5,\"I\":1}\n",
    "    if numeroRomano == \"\":\n",
    "        return 0 \n",
    "    else:\n",
    "        if numeroRomano[0] in letras.keys():\n",
    "            if len(numeroRomano) == 1:\n",
    "                return letras[numeroRomano[0]]\n",
    "                print(letras[numeroRomano[0]])\n",
    "            else:\n",
    "                if letras[numeroRomano[0]] < letras[numeroRomano[1]]:\n",
    "                    return letras[numeroRomano[1]] - letras[numeroRomano[0]] + romano(numeroRomano[2:len(numeroRomano)])\n",
    "                else:\n",
    "                    return letras[numeroRomano[0]] + romano(numeroRomano[1:len(numeroRomano)])\n",
    "\n",
    "def main():\n",
    "    numeroRomano = input(\"Digite o algarismo romano que você quer saber em número inteiro\")\n",
    "    # Input - CMXCVI\n",
    "    numeroRomano = numeroRomano.upper()\n",
    "    print(romano(numeroRomano))   \n",
    "\n",
    "main() "
   ]
  },
  {
   "cell_type": "markdown",
   "metadata": {},
   "source": [
    "Exercise 182: Spelling with Element Symbols\n",
    "    \n",
    "Each chemical element has a standard symbol that is one, two or three letters long.\n",
    "One game that some people like to play is to determine whether or not a word can be\n",
    "spelled using only element symbols. For example, silicon can be spelled using the\n",
    "symbols Si, Li, C, O and N. However, hydrogen cannot be spelled with any combination of element symbols.\n",
    "Write a recursive function that determines whether or not a word can be spelled\n",
    "using only element symbols. Your function will require two parameters: the word that you are trying to spell and a list of the symbols that can be used. It will return a\n",
    "string containing the symbols used to achieve the spelling as its result, or an empty\n",
    "string if no spelling exists. Capitalization should be ignored when your function\n",
    "searches for a spelling.\n",
    "Create a program that uses your function to find and display all of the element\n",
    "names that can be spelled using only element symbols. Display the names of the elements along with the sequences of symbols. For example, one line of your output\n",
    "will be:\n",
    "Silver can be spelled as SiLvEr\n",
    "Your program will use the elements data set, which can be downloaded from the\n",
    "author’s website. This data set includes the names and symbols of all 118 chemical\n",
    "elements."
   ]
  },
  {
   "cell_type": "code",
   "execution_count": 9,
   "metadata": {},
   "outputs": [
    {
     "name": "stdout",
     "output_type": "stream",
     "text": [
      "Carbon pode ser soletrado como CaRbON\n",
      "Neon pode ser soletrado como NeON\n",
      "Silicon pode ser soletrado como SiLiCoN\n",
      "Phosphorus pode ser soletrado como PHoSPHoRuS\n",
      "Iron pode ser soletrado como IrON\n",
      "Copper pode ser soletrado como CoPPEr\n",
      "Arsenic pode ser soletrado como ArSeNiC\n",
      "Krypton pode ser soletrado como KrYPtON\n",
      "Silver pode ser soletrado como SiLvEr\n",
      "Tin pode ser soletrado como TiN\n",
      "Xenon pode ser soletrado como XeNoN\n",
      "Bismuth pode ser soletrado como BiSmUTh\n",
      "Astatine pode ser soletrado como AsTaTiNe\n"
     ]
    }
   ],
   "source": [
    "def main():\n",
    "    arquivo = open(\"elements.txt\", \"r\")\n",
    "    text = arquivo.readline()\n",
    "    simbolo = []\n",
    "    nome = []\n",
    "    while text != \"\":\n",
    "        text = text.replace(\"\\n\", \"\")\n",
    "        elemento1 = text.split(\",\")\n",
    "        simbolo.append(elemento1[1])\n",
    "        nome.append(elemento1[2])\n",
    "        text = arquivo.readline()\n",
    "    arquivo.close()\n",
    "    for palavra in nome:\n",
    "        a = elemento(palavra, simbolo)\n",
    "        if a  != \"\":\n",
    "            print(palavra,\"pode ser soletrado como\", a)\n",
    "            \n",
    "def elemento(palavra, simbolo1):\n",
    "    lista = []\n",
    "    for i in simbolo1:\n",
    "        i = i.lower()\n",
    "        lista.append(i)\n",
    "    simbolos = \"\"    \n",
    "    palavras = palavra.lower()  \n",
    "    for i in range(3,0,-1):\n",
    "        if simbolos == \"\":\n",
    "            if len(palavra) >= i and (palavras[:i] in lista):\n",
    "                if len(palavra) == i:\n",
    "                    simbolos += simbolo1[lista.index(palavras)]\n",
    "                else:\n",
    "                    simbolos += simbolo1[lista.index(palavras[:i])] + elemento(palavra[i:], simbolo1)\n",
    "    if len(palavra) == len(simbolos):\n",
    "        return simbolos\n",
    "    else:\n",
    "        return \"\"\n",
    "main()"
   ]
  }
 ],
 "metadata": {
  "kernelspec": {
   "display_name": "Python 3",
   "language": "python",
   "name": "python3"
  },
  "language_info": {
   "codemirror_mode": {
    "name": "ipython",
    "version": 3
   },
   "file_extension": ".py",
   "mimetype": "text/x-python",
   "name": "python",
   "nbconvert_exporter": "python",
   "pygments_lexer": "ipython3",
   "version": "3.8.5"
  }
 },
 "nbformat": 4,
 "nbformat_minor": 4
}
